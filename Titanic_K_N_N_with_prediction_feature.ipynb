{
 "cells": [
  {
   "cell_type": "code",
   "execution_count": 1,
   "metadata": {},
   "outputs": [
    {
     "name": "stderr",
     "output_type": "stream",
     "text": [
      "\n",
      "[notice] A new release of pip is available: 24.1.2 -> 24.2\n",
      "[notice] To update, run: python.exe -m pip install --upgrade pip\n"
     ]
    },
    {
     "name": "stdout",
     "output_type": "stream",
     "text": [
      "Note: you may need to restart the kernel to use updated packages.\n",
      "Requirement already satisfied: pandas in c:\\users\\janca\\appdata\\local\\programs\\python\\python312\\lib\\site-packages (2.2.2)\n",
      "Requirement already satisfied: numpy>=1.26.0 in c:\\users\\janca\\appdata\\local\\programs\\python\\python312\\lib\\site-packages (from pandas) (1.26.4)\n",
      "Requirement already satisfied: python-dateutil>=2.8.2 in c:\\users\\janca\\appdata\\roaming\\python\\python312\\site-packages (from pandas) (2.9.0.post0)\n",
      "Requirement already satisfied: pytz>=2020.1 in c:\\users\\janca\\appdata\\local\\programs\\python\\python312\\lib\\site-packages (from pandas) (2024.1)\n",
      "Requirement already satisfied: tzdata>=2022.7 in c:\\users\\janca\\appdata\\local\\programs\\python\\python312\\lib\\site-packages (from pandas) (2024.1)\n",
      "Requirement already satisfied: six>=1.5 in c:\\users\\janca\\appdata\\roaming\\python\\python312\\site-packages (from python-dateutil>=2.8.2->pandas) (1.16.0)\n",
      "Requirement already satisfied: numpy in c:\\users\\janca\\appdata\\local\\programs\\python\\python312\\lib\\site-packages (1.26.4)\n",
      "Note: you may need to restart the kernel to use updated packages.\n"
     ]
    },
    {
     "name": "stderr",
     "output_type": "stream",
     "text": [
      "\n",
      "[notice] A new release of pip is available: 24.1.2 -> 24.2\n",
      "[notice] To update, run: python.exe -m pip install --upgrade pip\n"
     ]
    },
    {
     "name": "stdout",
     "output_type": "stream",
     "text": [
      "Requirement already satisfied: scikit-learn in c:\\users\\janca\\appdata\\local\\programs\\python\\python312\\lib\\site-packages (1.5.0)\n",
      "Requirement already satisfied: numpy>=1.19.5 in c:\\users\\janca\\appdata\\local\\programs\\python\\python312\\lib\\site-packages (from scikit-learn) (1.26.4)\n",
      "Requirement already satisfied: scipy>=1.6.0 in c:\\users\\janca\\appdata\\local\\programs\\python\\python312\\lib\\site-packages (from scikit-learn) (1.14.0)\n",
      "Requirement already satisfied: joblib>=1.2.0 in c:\\users\\janca\\appdata\\local\\programs\\python\\python312\\lib\\site-packages (from scikit-learn) (1.4.2)\n",
      "Requirement already satisfied: threadpoolctl>=3.1.0 in c:\\users\\janca\\appdata\\local\\programs\\python\\python312\\lib\\site-packages (from scikit-learn) (3.5.0)\n",
      "Note: you may need to restart the kernel to use updated packages.\n"
     ]
    },
    {
     "name": "stderr",
     "output_type": "stream",
     "text": [
      "\n",
      "[notice] A new release of pip is available: 24.1.2 -> 24.2\n",
      "[notice] To update, run: python.exe -m pip install --upgrade pip\n"
     ]
    }
   ],
   "source": [
    "%pip install pandas\n",
    "import pandas as pd\n",
    "%pip install numpy\n",
    "import numpy as np\n",
    "%pip install scikit-learn\n",
    "from sklearn.neighbors import KNeighborsClassifier\n"
   ]
  },
  {
   "cell_type": "code",
   "execution_count": 2,
   "metadata": {},
   "outputs": [
    {
     "name": "stdout",
     "output_type": "stream",
     "text": [
      "   PassengerId  Survived  Pclass  \\\n",
      "0            1         0       3   \n",
      "1            2         1       1   \n",
      "2            3         1       3   \n",
      "3            4         1       1   \n",
      "4            5         0       3   \n",
      "\n",
      "                                                Name     Sex   Age  SibSp  \\\n",
      "0                            Braund, Mr. Owen Harris    male  22.0      1   \n",
      "1  Cumings, Mrs. John Bradley (Florence Briggs Th...  female  38.0      1   \n",
      "2                             Heikkinen, Miss. Laina  female  26.0      0   \n",
      "3       Futrelle, Mrs. Jacques Heath (Lily May Peel)  female  35.0      1   \n",
      "4                           Allen, Mr. William Henry    male  35.0      0   \n",
      "\n",
      "   Parch            Ticket     Fare Cabin Embarked  \n",
      "0      0         A/5 21171   7.2500   NaN        S  \n",
      "1      0          PC 17599  71.2833   C85        C  \n",
      "2      0  STON/O2. 3101282   7.9250   NaN        S  \n",
      "3      0            113803  53.1000  C123        S  \n",
      "4      0            373450   8.0500   NaN        S  \n"
     ]
    }
   ],
   "source": [
    "df_titanic_train = pd.read_csv('titanic_training.csv')\n",
    "df_titanic_test = pd.read_csv('titanic_test.csv')\n",
    "\n",
    "\n",
    "print(df_titanic_train.head())"
   ]
  },
  {
   "cell_type": "code",
   "execution_count": 3,
   "metadata": {},
   "outputs": [
    {
     "name": "stdout",
     "output_type": "stream",
     "text": [
      "       PassengerId    Survived      Pclass         Age       SibSp  \\\n",
      "count   891.000000  891.000000  891.000000  714.000000  891.000000   \n",
      "mean    446.000000    0.383838    2.308642   29.699118    0.523008   \n",
      "std     257.353842    0.486592    0.836071   14.526497    1.102743   \n",
      "min       1.000000    0.000000    1.000000    0.420000    0.000000   \n",
      "25%     223.500000    0.000000    2.000000   20.125000    0.000000   \n",
      "50%     446.000000    0.000000    3.000000   28.000000    0.000000   \n",
      "75%     668.500000    1.000000    3.000000   38.000000    1.000000   \n",
      "max     891.000000    1.000000    3.000000   80.000000    8.000000   \n",
      "\n",
      "            Parch        Fare  \n",
      "count  891.000000  891.000000  \n",
      "mean     0.381594   32.204208  \n",
      "std      0.806057   49.693429  \n",
      "min      0.000000    0.000000  \n",
      "25%      0.000000    7.910400  \n",
      "50%      0.000000   14.454200  \n",
      "75%      0.000000   31.000000  \n",
      "max      6.000000  512.329200  \n"
     ]
    }
   ],
   "source": [
    "print(df_titanic_train.describe())"
   ]
  },
  {
   "cell_type": "code",
   "execution_count": 4,
   "metadata": {},
   "outputs": [
    {
     "name": "stdout",
     "output_type": "stream",
     "text": [
      "<class 'pandas.core.frame.DataFrame'>\n",
      "RangeIndex: 891 entries, 0 to 890\n",
      "Data columns (total 12 columns):\n",
      " #   Column       Non-Null Count  Dtype  \n",
      "---  ------       --------------  -----  \n",
      " 0   PassengerId  891 non-null    int64  \n",
      " 1   Survived     891 non-null    int64  \n",
      " 2   Pclass       891 non-null    int64  \n",
      " 3   Name         891 non-null    object \n",
      " 4   Sex          891 non-null    object \n",
      " 5   Age          714 non-null    float64\n",
      " 6   SibSp        891 non-null    int64  \n",
      " 7   Parch        891 non-null    int64  \n",
      " 8   Ticket       891 non-null    object \n",
      " 9   Fare         891 non-null    float64\n",
      " 10  Cabin        204 non-null    object \n",
      " 11  Embarked     889 non-null    object \n",
      "dtypes: float64(2), int64(5), object(5)\n",
      "memory usage: 83.7+ KB\n",
      "None\n"
     ]
    }
   ],
   "source": [
    "print(df_titanic_train.info())"
   ]
  },
  {
   "cell_type": "code",
   "execution_count": 5,
   "metadata": {},
   "outputs": [
    {
     "name": "stdout",
     "output_type": "stream",
     "text": [
      "Accuracy: 0.6923076923076923\n"
     ]
    }
   ],
   "source": [
    "import pandas as pd\n",
    "from sklearn.neighbors import KNeighborsClassifier\n",
    "from sklearn.model_selection import train_test_split\n",
    "from sklearn.metrics import accuracy_score\n",
    "\n",
    "# Drop unnecessary columns and create X and y\n",
    "X_train = df_titanic_train.drop(['PassengerId', 'Survived', 'Cabin', 'Ticket', 'Name'], axis=1)\n",
    "y_train = df_titanic_train['Survived']\n",
    "\n",
    "# Map categorical variables\n",
    "X_train['Sex'] = X_train['Sex'].map({'male': 0, 'female': 1})\n",
    "\n",
    "# Map Embarked and then drop rows with any remaining missing values\n",
    "X_train['Embarked'] = X_train['Embarked'].map({'Q': 0, 'S': 1, 'C': 2})\n",
    "#X_train.dropna(inplace=True)  # Drop rows with any missing values\n",
    "\n",
    "#Wir extrahieren Titel aus den Namen, z.B. \"Mr\", \"Mrs\", \"Miss\"\n",
    "#X_train['Title'] = X_train['Name'].str.extract(' ([A-Za-z]+).', expand=False)\n",
    "#X_train['Title'] = X_train['Title'].map({\"Mr\": 0, \"Miss\": 1, \"Mrs\": 2, \"Master\": 3, \"Dr\": 4, \"Rev\": 5, \"Col\": 6, \"Major\": 7, \"Mlle\": 8, \"Countess\": 9, \"Ms\": 10, \"Lady\": 11, \"Jonkheer\": 12, \"Don\": 13, \"Dona\": 14, \"Mme\": 15, \"Capt\": 16, \"Sir\": 17})\n",
    "\n",
    "# Drop the original Name column as it's no longer needed\n",
    "#X_train.drop('Name', axis=1, inplace=True)\n",
    "X_train.dropna(inplace=True)  # Drop rows with any missing values\n",
    "\n",
    "# Ensure that the corresponding rows are removed from y_train\n",
    "y_train = y_train[X_train.index]\n",
    "\n",
    "# Split the data into training and validation sets\n",
    "X_train, X_val, y_train, y_val = train_test_split(X_train, y_train, test_size=0.2, random_state=42)\n",
    "\n",
    "# Train the k-nearest neighbors model\n",
    "knn = KNeighborsClassifier(n_neighbors=4)\n",
    "knn.fit(X_train, y_train)\n",
    "\n",
    "# Make predictions and calculate accuracy\n",
    "y_pred = knn.predict(X_val)\n",
    "print(\"Accuracy:\", accuracy_score(y_val, y_pred))\n"
   ]
  },
  {
   "cell_type": "markdown",
   "metadata": {},
   "source": [
    "Embarked and Titel = 0.666  \n",
    "Embarked = 0.7281  \n",
    "Titel = 0.6126   \n",
    "Ohne beide = 0.6957  \n",
    "Ohne Age = 0.6503 \n",
    "Cabin = zu viele fehlende Datensätze \n"
   ]
  },
  {
   "cell_type": "markdown",
   "metadata": {},
   "source": [
    "Fragen an Hörchenberger:\n",
    "Umfang Dokumentation, --> Keine Regelung, Vollständig alles erfassen was gemacht wurde --> Ideen Gedankengänge,\n",
    "Inhalt Dokumentation,\n",
    "Fehlende Daten bei Age Cabine ausfüllen oder nicht --> nicht ausfüllen\n"
   ]
  },
  {
   "cell_type": "markdown",
   "metadata": {},
   "source": [
    "Dokumentieren dass Datensatz den Gesamtdatensatz besätigt und die Struktur bestätigt,\n",
    "Grafik machen\n",
    "Alter erklären, Kabine erklären\n",
    "erklären dass bei gewissen punkten daten fehlen --> Alter Kritisch für ML Modell\n",
    "\n",
    "IDEE kleine Abfrage von Daten zum ermitteln ob überlebt oder nicht\n",
    "\n"
   ]
  },
  {
   "cell_type": "code",
   "execution_count": 6,
   "metadata": {},
   "outputs": [
    {
     "name": "stdout",
     "output_type": "stream",
     "text": [
      "Fitting 5 folds for each of 78 candidates, totalling 390 fits\n",
      "Best Parameters: {'metric': 'manhattan', 'n_neighbors': 13, 'weights': 'uniform'}\n",
      "Best Cross-Validation Accuracy: 0.7328675671479583\n",
      "Validation Set Accuracy: 0.6503496503496503\n"
     ]
    }
   ],
   "source": [
    "#Hyperparameter Tuning\n",
    "import pandas as pd\n",
    "from sklearn.neighbors import KNeighborsClassifier\n",
    "from sklearn.model_selection import train_test_split, GridSearchCV\n",
    "from sklearn.metrics import accuracy_score\n",
    "\n",
    "# Define the kNN model\n",
    "knn = KNeighborsClassifier()\n",
    "\n",
    "# Define the hyperparameter grid to search\n",
    "param_grid = {\n",
    "    'n_neighbors': [3, 5, 7, 9, 11, 13, 15, 17, 19, 21, 23, 25, 27],   # Number of neighbors to use\n",
    "    'weights': ['uniform', 'distance'], # Weight function used in prediction\n",
    "    'metric': ['euclidean', 'manhattan', 'minkowski']  # Distance metric\n",
    "}\n",
    "# Perform grid search with cross-validation\n",
    "grid_search = GridSearchCV(estimator=knn, param_grid=param_grid, cv=5, scoring='accuracy', verbose=1)\n",
    "grid_search.fit(X_train, y_train)\n",
    "\n",
    "# Best parameters and best score from the grid search\n",
    "best_params = grid_search.best_params_\n",
    "best_score = grid_search.best_score_\n",
    "\n",
    "print(\"Best Parameters:\", best_params)\n",
    "print(\"Best Cross-Validation Accuracy:\", best_score)\n",
    "# Use the best estimator from the grid search\n",
    "best_knn = grid_search.best_estimator_\n",
    "\n",
    "# Make predictions on the validation set\n",
    "y_pred = best_knn.predict(X_val)\n",
    "\n",
    "# Calculate and print the accuracy on the validation set\n",
    "accuracy = accuracy_score(y_val, y_pred)\n",
    "print(\"Validation Set Accuracy:\", accuracy)\n"
   ]
  },
  {
   "cell_type": "code",
   "execution_count": 7,
   "metadata": {},
   "outputs": [
    {
     "name": "stdout",
     "output_type": "stream",
     "text": [
      "Accuracy: 0.7105263157894737\n"
     ]
    }
   ],
   "source": [
    "from sklearn.neighbors import KNeighborsClassifier\n",
    "from sklearn.model_selection import train_test_split\n",
    "from sklearn.metrics import accuracy_score\n",
    "\n",
    "# Validierungssatz erstellen\n",
    "X_train, X_val, y_train, y_val = train_test_split(X_train, y_train, test_size=0.2, random_state=42)\n",
    "\n",
    "# k-nearest Neighbour Modell trainieren\n",
    "knn = KNeighborsClassifier(n_neighbors=23)\n",
    "knn.fit(X_train, y_train)\n",
    "\n",
    "# Vorhersagen und Genauigkeit\n",
    "y_pred = knn.predict(X_val)\n",
    "print(\"Accuracy:\", accuracy_score(y_val, y_pred))"
   ]
  },
  {
   "cell_type": "code",
   "execution_count": 8,
   "metadata": {},
   "outputs": [
    {
     "name": "stdout",
     "output_type": "stream",
     "text": [
      "Beste Genauigkeit: 0.7544 mit n_neighbors = 7\n"
     ]
    }
   ],
   "source": [
    "best_n = 1\n",
    "best_accuracy = 0\n",
    "\n",
    "for n in range(1, 25):  \n",
    "    knn = KNeighborsClassifier(n_neighbors=n)\n",
    "    knn.fit(X_train, y_train)\n",
    "    y_pred = knn.predict(X_val)\n",
    "    accuracy = accuracy_score(y_val, y_pred)\n",
    "    \n",
    "    if accuracy > best_accuracy:\n",
    "        best_accuracy = accuracy\n",
    "        best_n = n\n",
    "\n",
    "print(f\"Beste Genauigkeit: {best_accuracy:.4f} mit n_neighbors = {best_n}\")"
   ]
  },
  {
   "cell_type": "markdown",
   "metadata": {},
   "source": [
    "Weitere Methoden:\n",
    "    -Random Decision Forest (Rauschtolleranz, Gewichtung von Spalten / fehlende Werte)\n",
    "    -Support Vector Machine (gut bei hochdimensionalen Datensätzen)\n",
    "    -Neuronales Netzwerk zum zeigen nicht mit Kanonen auf Spatzen schießen"
   ]
  },
  {
   "cell_type": "code",
   "execution_count": 9,
   "metadata": {},
   "outputs": [
    {
     "data": {
      "image/png": "[encoded data removed]",
      "text/plain": [
       "<Figure size 1000x600 with 1 Axes>"
      ]
     },
     "metadata": {},
     "output_type": "display_data"
    }
   ],
   "source": [
    "import matplotlib.pyplot as plt\n",
    "from sklearn.neighbors import KNeighborsClassifier\n",
    "from sklearn.metrics import accuracy_score\n",
    "\n",
    "# Define the range of neighbors to test\n",
    "neighbors_range = range(1, 27)\n",
    "train_scores = []\n",
    "valid_scores = []\n",
    "\n",
    "# Train and validate for each number of neighbors\n",
    "for n_neighbors in neighbors_range:\n",
    "    knn = KNeighborsClassifier(n_neighbors=n_neighbors)\n",
    "    knn.fit(X_train, y_train)\n",
    "    y_train_pred = knn.predict(X_train)\n",
    "    y_val_pred = knn.predict(X_val)\n",
    "    train_scores.append(accuracy_score(y_train, y_train_pred))\n",
    "    valid_scores.append(accuracy_score(y_val, y_val_pred))\n",
    "\n",
    "# Plot accuracy vs. number of neighbors\n",
    "plt.figure(figsize=(10, 6))\n",
    "plt.plot(neighbors_range, train_scores, 'o-', color='r', label='Training Accuracy')\n",
    "plt.plot(neighbors_range, valid_scores, 'o-', color='g', label='Validation Accuracy')\n",
    "plt.xlabel('Number of Neighbors')\n",
    "plt.ylabel('Accuracy')\n",
    "plt.title('Accuracy vs. Number of Neighbors for KNN')\n",
    "plt.legend()\n",
    "plt.grid(True)\n",
    "plt.show()\n"
   ]
  },
  {
   "cell_type": "code",
   "execution_count": 10,
   "metadata": {},
   "outputs": [
    {
     "name": "stdout",
     "output_type": "stream",
     "text": [
      "Requirement already satisfied: ipywidgets in c:\\users\\janca\\appdata\\local\\programs\\python\\python312\\lib\\site-packages (8.1.5)\n",
      "Requirement already satisfied: comm>=0.1.3 in c:\\users\\janca\\appdata\\roaming\\python\\python312\\site-packages (from ipywidgets) (0.2.2)\n",
      "Requirement already satisfied: ipython>=6.1.0 in c:\\users\\janca\\appdata\\roaming\\python\\python312\\site-packages (from ipywidgets) (8.26.0)\n",
      "Requirement already satisfied: traitlets>=4.3.1 in c:\\users\\janca\\appdata\\roaming\\python\\python312\\site-packages (from ipywidgets) (5.14.3)\n",
      "Requirement already satisfied: widgetsnbextension~=4.0.12 in c:\\users\\janca\\appdata\\local\\programs\\python\\python312\\lib\\site-packages (from ipywidgets) (4.0.13)\n",
      "Requirement already satisfied: jupyterlab-widgets~=3.0.12 in c:\\users\\janca\\appdata\\local\\programs\\python\\python312\\lib\\site-packages (from ipywidgets) (3.0.13)\n",
      "Requirement already satisfied: decorator in c:\\users\\janca\\appdata\\roaming\\python\\python312\\site-packages (from ipython>=6.1.0->ipywidgets) (5.1.1)\n",
      "Requirement already satisfied: jedi>=0.16 in c:\\users\\janca\\appdata\\roaming\\python\\python312\\site-packages (from ipython>=6.1.0->ipywidgets) (0.19.1)\n",
      "Requirement already satisfied: matplotlib-inline in c:\\users\\janca\\appdata\\roaming\\python\\python312\\site-packages (from ipython>=6.1.0->ipywidgets) (0.1.7)\n",
      "Requirement already satisfied: prompt-toolkit<3.1.0,>=3.0.41 in c:\\users\\janca\\appdata\\roaming\\python\\python312\\site-packages (from ipython>=6.1.0->ipywidgets) (3.0.47)\n",
      "Requirement already satisfied: pygments>=2.4.0 in c:\\users\\janca\\appdata\\roaming\\python\\python312\\site-packages (from ipython>=6.1.0->ipywidgets) (2.18.0)\n",
      "Requirement already satisfied: stack-data in c:\\users\\janca\\appdata\\roaming\\python\\python312\\site-packages (from ipython>=6.1.0->ipywidgets) (0.6.3)\n",
      "Requirement already satisfied: colorama in c:\\users\\janca\\appdata\\roaming\\python\\python312\\site-packages (from ipython>=6.1.0->ipywidgets) (0.4.6)\n",
      "Requirement already satisfied: parso<0.9.0,>=0.8.3 in c:\\users\\janca\\appdata\\roaming\\python\\python312\\site-packages (from jedi>=0.16->ipython>=6.1.0->ipywidgets) (0.8.4)\n",
      "Requirement already satisfied: wcwidth in c:\\users\\janca\\appdata\\roaming\\python\\python312\\site-packages (from prompt-toolkit<3.1.0,>=3.0.41->ipython>=6.1.0->ipywidgets) (0.2.13)\n",
      "Requirement already satisfied: executing>=1.2.0 in c:\\users\\janca\\appdata\\roaming\\python\\python312\\site-packages (from stack-data->ipython>=6.1.0->ipywidgets) (2.0.1)\n",
      "Requirement already satisfied: asttokens>=2.1.0 in c:\\users\\janca\\appdata\\roaming\\python\\python312\\site-packages (from stack-data->ipython>=6.1.0->ipywidgets) (2.4.1)\n",
      "Requirement already satisfied: pure-eval in c:\\users\\janca\\appdata\\roaming\\python\\python312\\site-packages (from stack-data->ipython>=6.1.0->ipywidgets) (0.2.2)\n",
      "Requirement already satisfied: six>=1.12.0 in c:\\users\\janca\\appdata\\roaming\\python\\python312\\site-packages (from asttokens>=2.1.0->stack-data->ipython>=6.1.0->ipywidgets) (1.16.0)\n",
      "Note: you may need to restart the kernel to use updated packages.\n"
     ]
    },
    {
     "name": "stderr",
     "output_type": "stream",
     "text": [
      "\n",
      "[notice] A new release of pip is available: 24.1.2 -> 24.2\n",
      "[notice] To update, run: python.exe -m pip install --upgrade pip\n"
     ]
    }
   ],
   "source": [
    "%pip install ipywidgets"
   ]
  },
  {
   "cell_type": "code",
   "execution_count": 11,
   "metadata": {},
   "outputs": [
    {
     "data": {
      "application/vnd.jupyter.widget-view+json": {
       "model_id": "74ac18c3e5144c2aaaab484ab225c6c7",
       "version_major": 2,
       "version_minor": 0
      },
      "text/plain": [
       "VBox(children=(HBox(children=(IntText(value=1, description='PassengerId:'), Button(button_style='success', des…"
      ]
     },
     "metadata": {},
     "output_type": "display_data"
    }
   ],
   "source": [
    "import ipywidgets as widgets\n",
    "from IPython.display import display\n",
    "\n",
    "# Function to predict survival and display passenger details\n",
    "def predict_survival_by_id(passenger_id):\n",
    "    # Find the passenger's data using PassengerId\n",
    "    passenger_data = df_titanic_train[df_titanic_train['PassengerId'] == passenger_id]\n",
    "    \n",
    "    # Check if the passenger_id is valid\n",
    "    if passenger_data.empty:\n",
    "        return f\"PassengerId {passenger_id} not found.\", None\n",
    "    \n",
    "    # Drop unnecessary columns for prediction\n",
    "    passenger_data_for_prediction = passenger_data.drop(['PassengerId', 'Survived', 'Cabin', 'Ticket', 'Name'], axis=1)\n",
    "    \n",
    "    # Map categorical variables as in the training data\n",
    "    passenger_data_for_prediction['Sex'] = passenger_data_for_prediction['Sex'].map({'male': 0, 'female': 1})\n",
    "    passenger_data_for_prediction['Embarked'] = passenger_data_for_prediction['Embarked'].map({'Q': 0, 'S': 1, 'C': 2})\n",
    "\n",
    "    # Ensure the order of columns matches the training data\n",
    "    passenger_data_for_prediction = passenger_data_for_prediction[['Pclass', 'Sex', 'Age', 'SibSp', 'Parch', 'Fare', 'Embarked']]\n",
    "    \n",
    "    # Fill any missing values using the median\n",
    "    passenger_data_for_prediction.fillna(X_train.median(), inplace=True)\n",
    "\n",
    "    # Predict using the trained KNN model\n",
    "    prediction = knn.predict(passenger_data_for_prediction)\n",
    "    \n",
    "    # Prepare the result message\n",
    "    survival_result = 'Survived' if prediction[0] == 1 else 'Not Survived'\n",
    "    \n",
    "    # Extracting important features\n",
    "    passenger_details = {\n",
    "        \"Age\": passenger_data['Age'].values[0],\n",
    "        \"Gender\": 'Female' if passenger_data['Sex'].values[0] == 'female' else 'Male',\n",
    "        \"Class\": passenger_data['Pclass'].values[0],\n",
    "        \"Fare\": passenger_data['Fare'].values[0],\n",
    "        \"Embarked\": passenger_data['Embarked'].values[0],\n",
    "        \"Siblings/Spouses Aboard\": passenger_data['SibSp'].values[0],\n",
    "        \"Parents/Children Aboard\": passenger_data['Parch'].values[0]\n",
    "    }\n",
    "    \n",
    "    # Add a title if it was extracted\n",
    "    if 'Title' in passenger_data.columns:\n",
    "        passenger_details[\"Title\"] = passenger_data['Title'].values[0]\n",
    "    \n",
    "    return survival_result, passenger_details\n",
    "\n",
    "# Create a text input widget for PassengerId\n",
    "passenger_id_input = widgets.IntText(\n",
    "    value=1,\n",
    "    description='PassengerId:',\n",
    "    disabled=False\n",
    ")\n",
    "\n",
    "# Create a label widget for displaying the result\n",
    "result_label = widgets.Label(value=\"Prediction:\")\n",
    "details_html = widgets.HTML(value=\"Details:\")\n",
    "\n",
    "# Function to be called when the button is clicked\n",
    "def on_button_click(b):\n",
    "    passenger_id = passenger_id_input.value\n",
    "    result, details = predict_survival_by_id(passenger_id)\n",
    "    result_label.value = f\"Prediction: {result}\"\n",
    "    \n",
    "    if details:\n",
    "        details_text = f\"\"\"\n",
    "        <b>Age:</b> {details['Age']}<br>\n",
    "        <b>Gender:</b> {details['Gender']}<br>\n",
    "        <b>Class:</b> {details['Class']}<br>\n",
    "        <b>Fare:</b> {details['Fare']}<br>\n",
    "        <b>Embarked:</b> {details['Embarked']}<br>\n",
    "        <b>Siblings/Spouses Aboard:</b> {details['Siblings/Spouses Aboard']}<br>\n",
    "        <b>Parents/Children Aboard:</b> {details['Parents/Children Aboard']}\n",
    "        \"\"\"\n",
    "        if \"Title\" in details:\n",
    "            details_text += f\"<br><b>Title:</b> {details['Title']}\"\n",
    "        details_html.value = details_text\n",
    "    else:\n",
    "        details_html.value = \"Details: Passenger not found.\"\n",
    "\n",
    "# Create a button widget\n",
    "submit_button = widgets.Button(\n",
    "    description='Submit',\n",
    "    button_style='success',  # 'success', 'info', 'warning', 'danger' or ''\n",
    "    tooltip='Click to make prediction'\n",
    ")\n",
    "\n",
    "# Attach the event handler to the button\n",
    "submit_button.on_click(on_button_click)\n",
    "\n",
    "# Display the input, button, result label, and details label\n",
    "display(widgets.VBox([widgets.HBox([passenger_id_input, submit_button]), result_label, details_html]))\n"
   ]
  },
  {
   "cell_type": "code",
   "execution_count": 13,
   "metadata": {},
   "outputs": [
    {
     "data": {
      "application/vnd.jupyter.widget-view+json": {
       "model_id": "f06b125b0ad74fae9bc488d9bd1d238d",
       "version_major": 2,
       "version_minor": 0
      },
      "text/plain": [
       "VBox(children=(HBox(children=(IntText(value=892, description='PassengerId:'), Button(button_style='success', d…"
      ]
     },
     "metadata": {},
     "output_type": "display_data"
    }
   ],
   "source": [
    "import ipywidgets as widgets\n",
    "from IPython.display import display\n",
    "\n",
    "# Function to predict survival and display passenger details from the test set\n",
    "def predict_survival_by_id_test(passenger_id):\n",
    "    # Find the passenger's data using PassengerId from the test set\n",
    "    passenger_data = df_titanic_test[df_titanic_test['PassengerId'] == passenger_id]\n",
    "    \n",
    "    # Check if the passenger_id is valid\n",
    "    if passenger_data.empty:\n",
    "        return f\"PassengerId {passenger_id} not found.\", None\n",
    "    \n",
    "    # Drop unnecessary columns for prediction\n",
    "    passenger_data_for_prediction = passenger_data.drop(['PassengerId', 'Cabin', 'Ticket', 'Name'], axis=1)\n",
    "    \n",
    "    # Map categorical variables as in the training data\n",
    "    passenger_data_for_prediction['Sex'] = passenger_data_for_prediction['Sex'].map({'male': 0, 'female': 1})\n",
    "    passenger_data_for_prediction['Embarked'] = passenger_data_for_prediction['Embarked'].map({'Q': 0, 'S': 1, 'C': 2})\n",
    "\n",
    "    # Ensure the order of columns matches the training data\n",
    "    passenger_data_for_prediction = passenger_data_for_prediction[['Pclass', 'Sex', 'Age', 'SibSp', 'Parch', 'Fare', 'Embarked']]\n",
    "    \n",
    "    # Fill any missing values using the median\n",
    "    passenger_data_for_prediction.fillna(X_train.median(), inplace=True)\n",
    "\n",
    "    # Predict using the trained KNN model\n",
    "    prediction = knn.predict(passenger_data_for_prediction)\n",
    "    \n",
    "    # Prepare the result message\n",
    "    survival_result = 'Survived' if prediction[0] == 1 else 'Not Survived'\n",
    "    \n",
    "    # Extracting important features\n",
    "    passenger_details = {\n",
    "        \"Age\": passenger_data['Age'].values[0],\n",
    "        \"Gender\": 'Female' if passenger_data['Sex'].values[0] == 'female' else 'Male',\n",
    "        \"Class\": passenger_data['Pclass'].values[0],\n",
    "        \"Fare\": passenger_data['Fare'].values[0],\n",
    "        \"Embarked\": passenger_data['Embarked'].values[0],\n",
    "        \"Siblings/Spouses Aboard\": passenger_data['SibSp'].values[0],\n",
    "        \"Parents/Children Aboard\": passenger_data['Parch'].values[0]\n",
    "    }\n",
    "    \n",
    "    # Add a title if it was extracted (optional, depending on preprocessing)\n",
    "    if 'Title' in passenger_data.columns:\n",
    "        passenger_details[\"Title\"] = passenger_data['Title'].values[0]\n",
    "    \n",
    "    return survival_result, passenger_details\n",
    "\n",
    "# Create a text input widget for PassengerId\n",
    "passenger_id_input_test = widgets.IntText(\n",
    "    value=892,\n",
    "    description='PassengerId:',\n",
    "    disabled=False\n",
    ")\n",
    "\n",
    "# Create a label widget for displaying the result\n",
    "result_label_test = widgets.Label(value=\"Prediction:\")\n",
    "details_html_test = widgets.HTML(value=\"Details:\")\n",
    "\n",
    "# Function to be called when the button is clicked\n",
    "def on_button_click_test(b):\n",
    "    passenger_id = passenger_id_input_test.value\n",
    "    result, details = predict_survival_by_id_test(passenger_id)\n",
    "    result_label_test.value = f\"Prediction: {result}\"\n",
    "    \n",
    "    if details:\n",
    "        details_text = f\"\"\"\n",
    "        <b>Age:</b> {details['Age']}<br>\n",
    "        <b>Gender:</b> {details['Gender']}<br>\n",
    "        <b>Class:</b> {details['Class']}<br>\n",
    "        <b>Fare:</b> {details['Fare']}<br>\n",
    "        <b>Embarked:</b> {details['Embarked']}<br>\n",
    "        <b>Siblings/Spouses Aboard:</b> {details['Siblings/Spouses Aboard']}<br>\n",
    "        <b>Parents/Children Aboard:</b> {details['Parents/Children Aboard']}\n",
    "        \"\"\"\n",
    "        if \"Title\" in details:\n",
    "            details_text += f\"<br><b>Title:</b> {details['Title']}\"\n",
    "        details_html_test.value = details_text\n",
    "    else:\n",
    "        details_html_test.value = \"Details: Passenger not found.\"\n",
    "\n",
    "# Create a button widget\n",
    "submit_button_test = widgets.Button(\n",
    "    description='Submit',\n",
    "    button_style='success',  # 'success', 'info', 'warning', 'danger' or ''\n",
    "    tooltip='Click to make prediction'\n",
    ")\n",
    "\n",
    "# Attach the event handler to the button\n",
    "submit_button_test.on_click(on_button_click_test)\n",
    "\n",
    "# Display the input, button, result label, and details label\n",
    "display(widgets.VBox([widgets.HBox([passenger_id_input_test, submit_button_test]), result_label_test, details_html_test]))\n"
   ]
  }
 ],
 "metadata": {
  "kernelspec": {
   "display_name": "Alex",
   "language": "python",
   "name": "python3"
  },
  "language_info": {
   "codemirror_mode": {
    "name": "ipython",
    "version": 3
   },
   "file_extension": ".py",
   "mimetype": "text/x-python",
   "name": "python",
   "nbconvert_exporter": "python",
   "pygments_lexer": "ipython3",
   "version": "3.12.4"
  }
 },
 "nbformat": 4,
 "nbformat_minor": 2
}
