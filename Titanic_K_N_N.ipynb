{
 "cells": [
  {
   "cell_type": "code",
   "execution_count": 4,
   "metadata": {},
   "outputs": [
    {
     "name": "stdout",
     "output_type": "stream",
     "text": [
      "Requirement already satisfied: pandas in c:\\users\\alexa\\anaconda3\\envs\\alex\\lib\\site-packages (2.2.2)\n",
      "Requirement already satisfied: numpy>=1.23.2 in c:\\users\\alexa\\anaconda3\\envs\\alex\\lib\\site-packages (from pandas) (1.26.4)\n",
      "Requirement already satisfied: python-dateutil>=2.8.2 in c:\\users\\alexa\\anaconda3\\envs\\alex\\lib\\site-packages (from pandas) (2.9.0)\n",
      "Requirement already satisfied: pytz>=2020.1 in c:\\users\\alexa\\anaconda3\\envs\\alex\\lib\\site-packages (from pandas) (2024.1)\n",
      "Requirement already satisfied: tzdata>=2022.7 in c:\\users\\alexa\\anaconda3\\envs\\alex\\lib\\site-packages (from pandas) (2024.1)\n",
      "Requirement already satisfied: six>=1.5 in c:\\users\\alexa\\anaconda3\\envs\\alex\\lib\\site-packages (from python-dateutil>=2.8.2->pandas) (1.16.0)\n",
      "Note: you may need to restart the kernel to use updated packages.\n",
      "Requirement already satisfied: numpy in c:\\users\\alexa\\anaconda3\\envs\\alex\\lib\\site-packages (1.26.4)\n",
      "Note: you may need to restart the kernel to use updated packages.\n",
      "Requirement already satisfied: scikit-learn in c:\\users\\alexa\\anaconda3\\envs\\alex\\lib\\site-packages (1.5.1)\n",
      "Requirement already satisfied: numpy>=1.19.5 in c:\\users\\alexa\\anaconda3\\envs\\alex\\lib\\site-packages (from scikit-learn) (1.26.4)\n",
      "Requirement already satisfied: scipy>=1.6.0 in c:\\users\\alexa\\anaconda3\\envs\\alex\\lib\\site-packages (from scikit-learn) (1.14.1)\n",
      "Requirement already satisfied: joblib>=1.2.0 in c:\\users\\alexa\\anaconda3\\envs\\alex\\lib\\site-packages (from scikit-learn) (1.4.2)\n",
      "Requirement already satisfied: threadpoolctl>=3.1.0 in c:\\users\\alexa\\anaconda3\\envs\\alex\\lib\\site-packages (from scikit-learn) (3.5.0)\n",
      "Note: you may need to restart the kernel to use updated packages.\n"
     ]
    }
   ],
   "source": [
    "%pip install pandas\n",
    "%pip install numpy\n",
    "%pip install scikit-learn\n",
    "\n",
    "import pandas as pd\n",
    "import numpy as np\n",
    "import matplotlib.pyplot as plt\n",
    "from sklearn.neighbors import KNeighborsClassifier\n",
    "from sklearn.model_selection import train_test_split\n",
    "from sklearn.metrics import accuracy_score\n",
    "from itertools import combinations\n",
    "\n",
    "\n",
    "\n",
    "#Hyperparameter tuning\n",
    "from sklearn.model_selection import GridSearchCV\n"
   ]
  },
  {
   "cell_type": "code",
   "execution_count": 5,
   "metadata": {},
   "outputs": [
    {
     "name": "stdout",
     "output_type": "stream",
     "text": [
      "   PassengerId  Survived  Pclass  \\\n",
      "0            1         0       3   \n",
      "1            2         1       1   \n",
      "2            3         1       3   \n",
      "3            4         1       1   \n",
      "4            5         0       3   \n",
      "\n",
      "                                                Name     Sex   Age  SibSp  \\\n",
      "0                            Braund, Mr. Owen Harris    male  22.0      1   \n",
      "1  Cumings, Mrs. John Bradley (Florence Briggs Th...  female  38.0      1   \n",
      "2                             Heikkinen, Miss. Laina  female  26.0      0   \n",
      "3       Futrelle, Mrs. Jacques Heath (Lily May Peel)  female  35.0      1   \n",
      "4                           Allen, Mr. William Henry    male  35.0      0   \n",
      "\n",
      "   Parch            Ticket     Fare Cabin Embarked  \n",
      "0      0         A/5 21171   7.2500   NaN        S  \n",
      "1      0          PC 17599  71.2833   C85        C  \n",
      "2      0  STON/O2. 3101282   7.9250   NaN        S  \n",
      "3      0            113803  53.1000  C123        S  \n",
      "4      0            373450   8.0500   NaN        S  \n"
     ]
    }
   ],
   "source": [
    "df_titanic_train = pd.read_csv('titanic_training.csv')\n",
    "df_titanic_test = pd.read_csv('titanic_test.csv')\n",
    "\n",
    "\n",
    "print(df_titanic_train.head())"
   ]
  },
  {
   "cell_type": "code",
   "execution_count": 6,
   "metadata": {},
   "outputs": [
    {
     "name": "stdout",
     "output_type": "stream",
     "text": [
      "       PassengerId    Survived      Pclass         Age       SibSp  \\\n",
      "count   891.000000  891.000000  891.000000  714.000000  891.000000   \n",
      "mean    446.000000    0.383838    2.308642   29.699118    0.523008   \n",
      "std     257.353842    0.486592    0.836071   14.526497    1.102743   \n",
      "min       1.000000    0.000000    1.000000    0.420000    0.000000   \n",
      "25%     223.500000    0.000000    2.000000   20.125000    0.000000   \n",
      "50%     446.000000    0.000000    3.000000   28.000000    0.000000   \n",
      "75%     668.500000    1.000000    3.000000   38.000000    1.000000   \n",
      "max     891.000000    1.000000    3.000000   80.000000    8.000000   \n",
      "\n",
      "            Parch        Fare  \n",
      "count  891.000000  891.000000  \n",
      "mean     0.381594   32.204208  \n",
      "std      0.806057   49.693429  \n",
      "min      0.000000    0.000000  \n",
      "25%      0.000000    7.910400  \n",
      "50%      0.000000   14.454200  \n",
      "75%      0.000000   31.000000  \n",
      "max      6.000000  512.329200  \n"
     ]
    }
   ],
   "source": [
    "print(df_titanic_train.describe())"
   ]
  },
  {
   "cell_type": "code",
   "execution_count": 7,
   "metadata": {},
   "outputs": [
    {
     "name": "stdout",
     "output_type": "stream",
     "text": [
      "<class 'pandas.core.frame.DataFrame'>\n",
      "RangeIndex: 891 entries, 0 to 890\n",
      "Data columns (total 12 columns):\n",
      " #   Column       Non-Null Count  Dtype  \n",
      "---  ------       --------------  -----  \n",
      " 0   PassengerId  891 non-null    int64  \n",
      " 1   Survived     891 non-null    int64  \n",
      " 2   Pclass       891 non-null    int64  \n",
      " 3   Name         891 non-null    object \n",
      " 4   Sex          891 non-null    object \n",
      " 5   Age          714 non-null    float64\n",
      " 6   SibSp        891 non-null    int64  \n",
      " 7   Parch        891 non-null    int64  \n",
      " 8   Ticket       891 non-null    object \n",
      " 9   Fare         891 non-null    float64\n",
      " 10  Cabin        204 non-null    object \n",
      " 11  Embarked     889 non-null    object \n",
      "dtypes: float64(2), int64(5), object(5)\n",
      "memory usage: 83.7+ KB\n",
      "None\n"
     ]
    }
   ],
   "source": [
    "print(df_titanic_train.info())"
   ]
  },
  {
   "cell_type": "code",
   "execution_count": 10,
   "metadata": {},
   "outputs": [
    {
     "name": "stdout",
     "output_type": "stream",
     "text": [
      "Die 5 besten Kombinationen:\n",
      "Kombination: ('Pclass', 'Sex', 'Parch', 'Embarked'), n_neighbors: 5, Genauigkeit: 0.8042\n",
      "Kombination: ('Pclass', 'SibSp', 'Title'), n_neighbors: 3, Genauigkeit: 0.7972\n",
      "Kombination: ('Pclass', 'Sex', 'SibSp', 'Title'), n_neighbors: 3, Genauigkeit: 0.7972\n",
      "Kombination: ('Pclass', 'Sex', 'Parch', 'Embarked'), n_neighbors: 22, Genauigkeit: 0.7972\n",
      "Kombination: ('Pclass', 'Sex', 'Parch', 'Embarked'), n_neighbors: 23, Genauigkeit: 0.7972\n",
      "\n",
      "Die 5 schlechtesten Kombinationen:\n",
      "Kombination: ('Parch', 'Embarked'), n_neighbors: 4, Genauigkeit: 0.3706\n",
      "Kombination: ('Parch', 'Embarked'), n_neighbors: 13, Genauigkeit: 0.3916\n",
      "Kombination: ('Embarked',), n_neighbors: 8, Genauigkeit: 0.3986\n",
      "Kombination: ('Embarked',), n_neighbors: 7, Genauigkeit: 0.3986\n",
      "Kombination: ('Embarked',), n_neighbors: 6, Genauigkeit: 0.3986\n"
     ]
    }
   ],
   "source": [
    "# Laden der Daten\n",
    "df_titanic_train = pd.read_csv('titanic_training.csv')\n",
    "\n",
    "# Extrahieren des Titels aus dem Namen\n",
    "df_titanic_train['Title'] = df_titanic_train['Name'].str.extract(' ([A-Za-z]+)\\.', expand=False)\n",
    "\n",
    "# Mapping der Titel zu numerischen Werten\n",
    "title_mapping = {\n",
    "    \"Mr\": 0, \"Miss\": 1, \"Mrs\": 2, \"Master\": 3, \"Dr\": 4, \"Rev\": 5, \"Col\": 6,\n",
    "    \"Major\": 7, \"Mlle\": 8, \"Countess\": 9, \"Ms\": 10, \"Lady\": 11, \"Jonkheer\": 12,\n",
    "    \"Don\": 13, \"Dona\": 14, \"Mme\": 15, \"Capt\": 16, \"Sir\": 17\n",
    "}\n",
    "df_titanic_train['Title'] = df_titanic_train['Title'].map(title_mapping)\n",
    "\n",
    "# Drop unnecessary columns and create X and y\n",
    "X = df_titanic_train.drop(['Survived', 'Cabin', 'Ticket', 'Name'], axis=1)\n",
    "y = df_titanic_train['Survived']\n",
    "\n",
    "# Map categorical variables\n",
    "X['Sex'] = X['Sex'].map({'male': 0, 'female': 1})\n",
    "X['Embarked'] = X['Embarked'].map({'Q': 0, 'S': 1, 'C': 2})\n",
    "\n",
    "# Entfernen von Zeilen mit fehlenden Werten\n",
    "X.dropna(inplace=True)\n",
    "\n",
    "# Ensure that the corresponding rows are removed from y\n",
    "y = y[X.index]\n",
    "\n",
    "# Split the data into training and validation sets\n",
    "X_train, X_val, y_train, y_val = train_test_split(X, y, test_size=0.2, random_state=42)\n",
    "\n",
    "# Liste zur Speicherung der Ergebnisse\n",
    "results = []\n",
    "\n",
    "# Iterate over all possible feature combinations\n",
    "for i in range(1, len(X_train.columns) + 1):\n",
    "    for combination in combinations(X_train.columns, i):\n",
    "        X_train_subset = X_train[list(combination)]\n",
    "        X_val_subset = X_val[list(combination)]\n",
    "        \n",
    "        # Find the best n_neighbors for the current feature combination\n",
    "        for n in range(1, 25):\n",
    "            knn = KNeighborsClassifier(n_neighbors=n)\n",
    "            knn.fit(X_train_subset, y_train)\n",
    "            y_pred = knn.predict(X_val_subset)\n",
    "            accuracy = accuracy_score(y_val, y_pred)\n",
    "            \n",
    "            #print(f\"Kombination: {combination}, n_neighbors: {n}, Genauigkeit: {accuracy:.4f}\")\n",
    "            \n",
    "            # Speicherung der aktuellen Kombination und der Genauigkeit\n",
    "            results.append((combination, n, accuracy))\n",
    "\n",
    "# Sortieren der Ergebnisse nach Genauigkeit\n",
    "results.sort(key=lambda x: x[2], reverse=True)\n",
    "\n",
    "# Ausgabe der 5 besten Kombinationen\n",
    "print(\"Die 5 besten Kombinationen:\")\n",
    "for i in range(5):\n",
    "    print(f\"Kombination: {results[i][0]}, n_neighbors: {results[i][1]}, Genauigkeit: {results[i][2]:.4f}\")\n",
    "\n",
    "# Ausgabe der 5 schlechtesten Kombinationen\n",
    "print(\"\\nDie 5 schlechtesten Kombinationen:\")\n",
    "for i in range(1, 6):\n",
    "    print(f\"Kombination: {results[-i][0]}, n_neighbors: {results[-i][1]}, Genauigkeit: {results[-i][2]:.4f}\")\n",
    "\n"
   ]
  },
  {
   "cell_type": "code",
   "execution_count": 16,
   "metadata": {},
   "outputs": [
    {
     "name": "stdout",
     "output_type": "stream",
     "text": [
      "Genauigkeit des Modells mit den besten Features: 0.8042\n"
     ]
    }
   ],
   "source": [
    "df_titanic_train = pd.read_csv('titanic_training.csv')\n",
    "\n",
    "\n",
    "\n",
    "# Drop unnecessary columns and create X and y\n",
    "X = df_titanic_train.drop(['Survived', 'Cabin', 'Ticket', 'Name'], axis=1)\n",
    "y = df_titanic_train['Survived']\n",
    "\n",
    "# Map categorical variables\n",
    "X['Sex'] = X['Sex'].map({'male': 0, 'female': 1})\n",
    "X['Embarked'] = X['Embarked'].map({'Q': 0, 'S': 1, 'C': 2})\n",
    "\n",
    "# Entfernen von Zeilen mit fehlenden Werten\n",
    "X.dropna(inplace=True)\n",
    "\n",
    "# Ensure that the corresponding rows are removed from y\n",
    "y = y[X.index]\n",
    "\n",
    "# Split the data into training and validation sets\n",
    "X_train, X_val, y_train, y_val = train_test_split(X, y, test_size=0.2, random_state=42)\n",
    "\n",
    "# Festes Modell basierend auf der besten Kombination\n",
    "best_features = ['Pclass', 'Sex', 'Parch', 'Embarked']\n",
    "n_neighbors = 5\n",
    "\n",
    "# Modelltraining\n",
    "knn = KNeighborsClassifier(n_neighbors=n_neighbors)\n",
    "knn.fit(X_train[best_features], y_train)\n",
    "\n",
    "# Vorhersage und Genauigkeit\n",
    "y_pred = knn.predict(X_val[best_features])\n",
    "accuracy = accuracy_score(y_val, y_pred)\n",
    "\n",
    "print(f\"Genauigkeit des Modells mit den besten Features: {accuracy:.4f}\")\n"
   ]
  },
  {
   "cell_type": "markdown",
   "metadata": {},
   "source": [
    "Fragen an Hörchenberger:\n",
    "Umfang Dokumentation, --> Keine Regelung, Vollständig alles erfassen was gemacht wurde --> Ideen Gedankengänge,\n",
    "Inhalt Dokumentation,\n",
    "Fehlende Daten bei Age Cabine ausfüllen oder nicht --> nicht ausfüllen\n"
   ]
  },
  {
   "cell_type": "markdown",
   "metadata": {},
   "source": [
    "Dokumentieren dass Datensatz den Gesamtdatensatz besätigt und die Struktur bestätigt,\n",
    "Grafik machen\n",
    "Alter erklären, Kabine erklären\n",
    "erklären dass bei gewissen punkten daten fehlen --> Alter Kritisch für ML Modell\n",
    "\n",
    "IDEE kleine Abfrage von Daten zum ermitteln ob überlebt oder nicht\n",
    "\n"
   ]
  },
  {
   "cell_type": "code",
   "execution_count": 9,
   "metadata": {},
   "outputs": [
    {
     "data": {
      "image/png": "[encoded data removed]",
      "text/plain": [
       "<Figure size 1000x600 with 1 Axes>"
      ]
     },
     "metadata": {},
     "output_type": "display_data"
    }
   ],
   "source": [
    "# Define the range of neighbors to test\n",
    "neighbors_range = range(1, 27)\n",
    "train_scores = []\n",
    "valid_scores = []\n",
    "\n",
    "# Train and validate for each number of neighbors\n",
    "for n_neighbors in neighbors_range:\n",
    "    knn = KNeighborsClassifier(n_neighbors=n_neighbors)\n",
    "    knn.fit(X_train, y_train)\n",
    "    y_train_pred = knn.predict(X_train)\n",
    "    y_val_pred = knn.predict(X_val)\n",
    "    train_scores.append(accuracy_score(y_train, y_train_pred))\n",
    "    valid_scores.append(accuracy_score(y_val, y_val_pred))\n",
    "\n",
    "# Plot accuracy vs. number of neighbors\n",
    "plt.figure(figsize=(10, 6))\n",
    "plt.plot(neighbors_range, train_scores, 'o-', color='r', label='Training Accuracy')\n",
    "plt.plot(neighbors_range, valid_scores, 'o-', color='g', label='Validation Accuracy')\n",
    "plt.xlabel('Number of Neighbors')\n",
    "plt.ylabel('Accuracy')\n",
    "plt.title('Accuracy vs. Number of Neighbors for KNN')\n",
    "plt.legend()\n",
    "plt.grid(True)\n",
    "plt.show()\n"
   ]
  },
  {
   "cell_type": "code",
   "execution_count": 31,
   "metadata": {},
   "outputs": [
    {
     "name": "stdout",
     "output_type": "stream",
     "text": [
      "Fitting 5 folds for each of 78 candidates, totalling 390 fits\n",
      "Best Parameters: {'metric': 'manhattan', 'n_neighbors': 19, 'weights': 'distance'}\n",
      "Best Cross-Validation Accuracy: 0.6714019562179786\n",
      "Validation Set Accuracy: 0.6503496503496503\n"
     ]
    }
   ],
   "source": [
    "#Hyperparameter Tuning\n",
    "\n",
    "# Define the kNN model\n",
    "knn = KNeighborsClassifier()\n",
    "\n",
    "# Define the hyperparameter grid to search\n",
    "param_grid = {\n",
    "    'n_neighbors': [3, 5, 7, 9, 11, 13, 15, 17, 19, 21, 23, 25, 27],   # Number of neighbors to use\n",
    "    'weights': ['uniform', 'distance'], # Weight function used in prediction\n",
    "    'metric': ['euclidean', 'manhattan', 'minkowski']  # Distance metric\n",
    "}\n",
    "# Perform grid search with cross-validation\n",
    "grid_search = GridSearchCV(estimator=knn, param_grid=param_grid, cv=5, scoring='accuracy', verbose=1)\n",
    "grid_search.fit(X_train, y_train)\n",
    "\n",
    "# Best parameters and best score from the grid search\n",
    "best_params = grid_search.best_params_\n",
    "best_score = grid_search.best_score_\n",
    "\n",
    "print(\"Best Parameters:\", best_params)\n",
    "print(\"Best Cross-Validation Accuracy:\", best_score)\n",
    "# Use the best estimator from the grid search\n",
    "best_knn = grid_search.best_estimator_\n",
    "\n",
    "# Make predictions on the validation set\n",
    "y_pred = best_knn.predict(X_val)\n",
    "\n",
    "# Calculate and print the accuracy on the validation set\n",
    "accuracy = accuracy_score(y_val, y_pred)\n",
    "print(\"Validation Set Accuracy:\", accuracy)\n"
   ]
  },
  {
   "cell_type": "markdown",
   "metadata": {},
   "source": [
    "Weitere Methoden:\n",
    "    -Random Decision Forest (Rauschtolleranz, Gewichtung von Spalten / fehlende Werte)\n",
    "    -Support Vector Machine (gut bei hochdimensionalen Datensätzen)\n",
    "    -Neuronales Netzwerk zum zeigen nicht mit Kanonen auf Spatzen schießen"
   ]
  }
 ],
 "metadata": {
  "kernelspec": {
   "display_name": "Alex",
   "language": "python",
   "name": "python3"
  },
  "language_info": {
   "codemirror_mode": {
    "name": "ipython",
    "version": 3
   },
   "file_extension": ".py",
   "mimetype": "text/x-python",
   "name": "python",
   "nbconvert_exporter": "python",
   "pygments_lexer": "ipython3",
   "version": "3.11.9"
  }
 },
 "nbformat": 4,
 "nbformat_minor": 2
}
